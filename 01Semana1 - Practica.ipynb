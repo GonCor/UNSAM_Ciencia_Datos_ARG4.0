{
  "nbformat": 4,
  "nbformat_minor": 0,
  "metadata": {
    "colab": {
      "provenance": [],
      "include_colab_link": true
    },
    "kernelspec": {
      "name": "python3",
      "display_name": "Python 3"
    },
    "language_info": {
      "name": "python"
    }
  },
  "cells": [
    {
      "cell_type": "markdown",
      "metadata": {
        "id": "view-in-github",
        "colab_type": "text"
      },
      "source": [
        "<a href=\"https://colab.research.google.com/github/GonCor/UNSAM_Ciencia_Datos_ARG4.0/blob/main/01Semana1%20-%20Practica.ipynb\" target=\"_parent\"><img src=\"https://colab.research.google.com/assets/colab-badge.svg\" alt=\"Open In Colab\"/></a>"
      ]
    },
    {
      "cell_type": "markdown",
      "source": [
        "# Ejercicios – Semana 1\n",
        "\n",
        "Conjunto de ejercicios simples para practicar lo aprendido en la Semana 1. El Miércoles 1/3 subiremos los ejercicios resueltos para auto-correción."
      ],
      "metadata": {
        "id": "hdp-7LvjSKIh"
      }
    },
    {
      "cell_type": "markdown",
      "source": [
        "## Ejercicio 1:\n",
        "\n",
        "> a. Crea 3 variables, una entera, una flotante y una cadena de texto.\n",
        "\n",
        "> b. Imprime cada una de las variables en la consola.\n",
        "\n",
        "> c. Crea una variable booleana y asignale un valor.\n",
        "\n",
        "> d. Imprime la variable booleana en la consola.\n",
        "\n",
        "\n",
        "\n",
        "\n",
        "\n",
        "\n"
      ],
      "metadata": {
        "id": "R4kQYksDjjGT"
      }
    },
    {
      "cell_type": "code",
      "source": [
        "# Declaro las tres variables, con sus respectivos tipos aclarados en sus nombres\n",
        "\n",
        "variable_entera = int(input(\"Ingrese un numero entero: \"))\n",
        "\n",
        "variable_flotante = float(input(\"Ingrese un numero con coma: \"))\n",
        "\n",
        "variable_cadena = input(\"Ingrese una cadena de carecteres: \")\n",
        "\n",
        "# completa los valores de las variables de acuerdo a su tipo\n",
        "# ... (ahora podes seguir con el código....)"
      ],
      "metadata": {
        "id": "pXAhHqr4PYrO",
        "colab": {
          "base_uri": "https://localhost:8080/"
        },
        "outputId": "c7d1f9f2-fefa-4c6e-a8b1-3666fb2ea4d2"
      },
      "execution_count": null,
      "outputs": [
        {
          "name": "stdout",
          "output_type": "stream",
          "text": [
            "Ingrese un numero entero56\n",
            "Ingrese un numero con coma23.3\n",
            "Ingrese una cadena de carecteresHola mundo\n"
          ]
        }
      ]
    },
    {
      "cell_type": "markdown",
      "source": [
        "## Ejercicio 2:\n",
        "\n",
        "> a.    Crea una variable entera llamada edad y asígnale un valor.\n",
        "\n",
        "> b.    Crea una variable flotante llamada altura y asígnale un valor.\n",
        "\n",
        "> c.    Crea una variable de texto llamada nombre y asígnale un valor.\n",
        "\n",
        "> d.    Crea una variable booleana llamada soltero y asígnale un valor.\n",
        "\n",
        "> e.    Imprime en la consola la edad, la altura, el nombre y el estado civil (soltero o no soltero).\n",
        "\n",
        "> f.    Crea una variable llamada todos_datos que sea una lista que contenga la edad, la altura, el nombre y el estado civil.\n",
        "\n",
        "> g.    Imprime la lista todos_datos en la consola."
      ],
      "metadata": {
        "id": "BA4V2CDDkpvE"
      }
    },
    {
      "cell_type": "code",
      "source": [
        "edad = 38\n",
        "altura = 1.87\n",
        "nombre = \"Gonzalo\"\n",
        "soltero = False\n",
        "print(edad, altura, nombre, soltero)\n",
        "todos_datos=[edad, altura, nombre, soltero]\n",
        "print(todos_datos)\n",
        "#... (ahora podes seguir con el código....)"
      ],
      "metadata": {
        "id": "YsNiiQfFPoBD",
        "colab": {
          "base_uri": "https://localhost:8080/"
        },
        "outputId": "1828f6ee-d1e7-403f-cc70-e9224356d521"
      },
      "execution_count": null,
      "outputs": [
        {
          "output_type": "stream",
          "name": "stdout",
          "text": [
            "38 1.87 Gonzalo False\n",
            "[38, 1.87, 'Gonzalo', False]\n"
          ]
        }
      ]
    },
    {
      "cell_type": "markdown",
      "source": [
        "## Ejercicio 3:\n",
        "\n",
        "\n",
        "*El índice de masa corporal (IMC) se puede calcular utilizando la siguiente fórmula:*\n",
        "\n",
        "> *IMC = P / A^2*\n",
        "\n",
        "> *donde P es el peso de la persona en kilogramos y A es la altura de la misma persona en metros. La fórmula resulta en un número que se utiliza para determinar si una persona está en un peso saludable o no.*\n",
        "\n",
        "*Un IMC normal se encuentra entre 18.5 y 24.9 kg/m^2. Un IMC menor a 18.5 kg/m^2 se considera bajo peso, mientras que un IMC mayor a 25 kg/m^2 se considera sobrepeso. Un IMC mayor a 30 kg/m^2 se considera obesidad. Sin embargo, estos valores son solo una guía y no son válidos para todas las personas, especialmente aquellas con una gran cantidad de músculo o deportistas.*\n",
        "\n",
        "**Crea un programa que te pida (usando input()) las siguientes informaciones: nombre, edad, peso en kg y altura en m y que te devuelva el nombre, la edad y el índice de masa corporal de esa persona.**\n",
        "\n",
        "\n",
        "*PISTA: input() siempre devuelve siempre una cadena*"
      ],
      "metadata": {
        "id": "6TxFmlq8ncGe"
      }
    },
    {
      "cell_type": "code",
      "source": [
        "# input() promptea al usuario y guarda esa variable COMO UNA CADENA (str).\n",
        "nombre = input('¿Nombre?: ')\n",
        "\n",
        "edad_str = input('¿Edad?: ')\n",
        "edad = int(edad_str)  # Como input guarda la variable como cadena, hay que 'castearla' (convertir su tipo) a entero, con la funcion int() (int=integer=entero)\n",
        "                      # ¿Que pasa si el usuario introduce una palabra en vez de un numero?\n",
        "P=float(input(\"¿Peso?\"))\n",
        "\n",
        "A=float(input('¿Altura?'))\n",
        "IMC = P/A**2\n",
        "\n",
        "\n",
        "print(\"SU IMC es de : \" , IMC)\n",
        "print(f'\\nNombre: {nombre}\\nEdad: {altura}\\nIMC: {IMC}')\n",
        "\n",
        "\n",
        "#... (ahora podes seguir con el código....)\n"
      ],
      "metadata": {
        "id": "xf7SOLPQP4lR",
        "colab": {
          "base_uri": "https://localhost:8080/"
        },
        "outputId": "4fe6493f-ebc1-4f3c-fe95-9f5c68012626"
      },
      "execution_count": null,
      "outputs": [
        {
          "output_type": "stream",
          "name": "stdout",
          "text": [
            "¿Nombre?: g\n",
            "¿Edad?: 39\n",
            "¿Peso?129\n",
            "¿Altura?1.87\n",
            "SU IMC es de :  36.8898166947868\n"
          ]
        }
      ]
    },
    {
      "cell_type": "markdown",
      "source": [
        "## Ejercicio 4:\n",
        "\n",
        "Crea un código que declare una variable con el número 5 elevado a la cuarta potencia. Luego que escriba en pantalla un mensaje que diga el tipo de variable declarada. Luego hacer lo mismo, pero cambiando el exponente a 1/2 y a una potencia negativa.  "
      ],
      "metadata": {
        "id": "EeoH-sH4-a_y"
      }
    },
    {
      "cell_type": "code",
      "source": [
        "x=5**4\n",
        "print(\"El tipo de variable es:\", type(x))\n",
        "y=5**(1/4)\n",
        "print(\"El tipo de variable es:\", type(y))\n",
        "z=5**(-3)\n",
        "print(\"El tipo de variable es:\", type(z))\n"
      ],
      "metadata": {
        "colab": {
          "base_uri": "https://localhost:8080/"
        },
        "id": "YRtgr4hCYshS",
        "outputId": "56abb123-dc30-493e-89bf-3aa541bebef1"
      },
      "execution_count": null,
      "outputs": [
        {
          "output_type": "stream",
          "name": "stdout",
          "text": [
            "El tipo de variable es: <class 'int'>\n",
            "El tipo de variable es: <class 'float'>\n",
            "El tipo de variable es: <class 'float'>\n"
          ]
        }
      ]
    },
    {
      "cell_type": "markdown",
      "source": [
        "## Ejercicio 5:\n",
        "\n",
        "Crea un código que tome como parámetro una frase y sea capaz de contar el número de palabras que contiene. Haga un test con la frase: \"Me gusta estudiar python en la UNSAM\".\n",
        "\n",
        "Y si queremos contar los caracteres incluyendo los espacios. ¿Cómo seria?\n",
        "\n",
        "Prueba con otras frases, para eso podes usar la funcion de ingreso de valores por teclado."
      ],
      "metadata": {
        "id": "ml9uC-cTAjjK"
      }
    },
    {
      "cell_type": "code",
      "source": [
        "x=\"Me gusta estudiar python en la UNSAM\"\n",
        "contar=len(x)\n",
        "print('La frase tiene ', contar , ' palabras')\n"
      ],
      "metadata": {
        "colab": {
          "base_uri": "https://localhost:8080/"
        },
        "id": "LyzM7V-OhDMH",
        "outputId": "49d18990-c2db-44e4-e3bb-5377f3906691"
      },
      "execution_count": null,
      "outputs": [
        {
          "output_type": "stream",
          "name": "stdout",
          "text": [
            "La frase tiene  36  palabras\n"
          ]
        }
      ]
    },
    {
      "cell_type": "markdown",
      "source": [
        "## Ejercicio 6:\n",
        "\n",
        "Escriba un programa que reciba dos números y los compare dando como resultado verdadero o falso ante la frase: El primer número es menor que el segundo."
      ],
      "metadata": {
        "id": "VlhyuuSFCy4X"
      }
    },
    {
      "cell_type": "code",
      "source": [
        "numero1=float(input(\"ingrese un numero\"))\n",
        "numero2=float(input(\"ingrese un numero\"))\n",
        "valor=numero1>numero2\n",
        "print('El primer número es menor que el segundo es ', valor)"
      ],
      "metadata": {
        "colab": {
          "base_uri": "https://localhost:8080/"
        },
        "id": "wjzCVBRgiGgp",
        "outputId": "bc97ba33-b94d-4bdd-e54c-f9860db120e0"
      },
      "execution_count": null,
      "outputs": [
        {
          "output_type": "stream",
          "name": "stdout",
          "text": [
            "ingrese un numero56\n",
            "ingrese un numero51\n",
            "El primer número es menor que el segundo es  True\n"
          ]
        }
      ]
    },
    {
      "cell_type": "markdown",
      "source": [
        "## Ejercicio 7:\n",
        "\n",
        "Cree un programa en python que calcule el promedio entre 2 notas."
      ],
      "metadata": {
        "id": "XQZ0Tu2GIi7X"
      }
    },
    {
      "cell_type": "code",
      "source": [
        "nota1=float(input(\"ingrese una nota\"))\n",
        "nota2=float(input(\"ingrese una nota\"))\n",
        "print('El promedio de las notas ingresadas es  ',  (nota1+nota2)/2 )"
      ],
      "metadata": {
        "colab": {
          "base_uri": "https://localhost:8080/"
        },
        "id": "w_i2sYoyine9",
        "outputId": "306659cf-873c-45eb-fec0-f071ae8a2c35"
      },
      "execution_count": null,
      "outputs": [
        {
          "output_type": "stream",
          "name": "stdout",
          "text": [
            "ingrese una nota8\n",
            "ingrese una nota9\n",
            "El promedio de las notas ingresadas es   8.5\n"
          ]
        }
      ]
    },
    {
      "cell_type": "markdown",
      "source": [
        "## Ejercicio 8:\n",
        "\n",
        "Escriba un programa que se utilizará para decidir si un alumno ha aprobado o no. Para ser aprobado, todos los promedios del alumno deben ser superiores a 7. Considere que el alumno cursa\n",
        "sólo tres asignaturas, y que la calificación de cada una de ellas se almacena en las siguientes variables: materia1, materia2 y materia3."
      ],
      "metadata": {
        "id": "3ewJrDVMJ7AB"
      }
    },
    {
      "cell_type": "code",
      "source": [
        "materia1=int(input('Ingrese su nota'))\n",
        "materia2=int(input('Ingrese su nota'))\n",
        "materia3=int(input('Ingrese su nota'))\n",
        "\n",
        "promedio=(materia1+materia2+materia3)/3\n",
        "aprobado= promedio > 7\n",
        "if aprobado is True:\n",
        "    print('El Alumno esta aprobado')\n",
        "\n",
        "else: print('El Alumno ha desaprobado')"
      ],
      "metadata": {
        "colab": {
          "base_uri": "https://localhost:8080/"
        },
        "id": "rZz1-yNBjllI",
        "outputId": "f5432f3c-8ff1-4c0e-cd6f-859e3a245747"
      },
      "execution_count": null,
      "outputs": [
        {
          "output_type": "stream",
          "name": "stdout",
          "text": [
            "Ingrese su nota8\n",
            "Ingrese su nota9\n",
            "Ingrese su nota9\n",
            "El Alumno esta aprobado\n"
          ]
        }
      ]
    },
    {
      "cell_type": "markdown",
      "source": [
        "## Ejercicio 9:\n",
        "\n",
        "Escriba un programa que lea input del usuario: cantidad de días, horas, minutos y segundos y que en base a esos datos, calcule el total en segundos."
      ],
      "metadata": {
        "id": "8jHOvbRlAiFM"
      }
    },
    {
      "cell_type": "code",
      "source": [
        "dias=int(input('Ingrese los dias'))\n",
        "horas=int(input('Ingrese los horas'))\n",
        "minutos=int(input('Ingrese los minutos'))\n",
        "segundos=int(input('Ingrese los segundos'))\n",
        "print('El total de segundos es ', dias*86400+horas*3600*minutos*60+segundos, 'segundos' )\n"
      ],
      "metadata": {
        "colab": {
          "base_uri": "https://localhost:8080/"
        },
        "id": "3-v4TJTckkyJ",
        "outputId": "49b357e4-5597-423a-e3d7-888c366c4ca1"
      },
      "execution_count": null,
      "outputs": [
        {
          "output_type": "stream",
          "name": "stdout",
          "text": [
            "Ingrese los dias89\n",
            "Ingrese los horas9\n",
            "Ingrese los minutos59\n",
            "Ingrese los segundos59\n",
            "El total de segundos es  122385659 segundos\n"
          ]
        }
      ]
    },
    {
      "cell_type": "markdown",
      "source": [
        "# Ejercicio 10:\n",
        "\n",
        "Haga un programa que pregunte por el precio de una mercaderia y el porcentaje de descuento de la misma y que calcule el importe del descuento y el precio a pagar."
      ],
      "metadata": {
        "id": "lwS4uvFUL3kW"
      }
    },
    {
      "cell_type": "code",
      "source": [
        "precio=float(input('Ingrese el precio de la mercaderia '))\n",
        "descuento=float(input('Ingrese el descuento'))\n",
        "print ('El descuento es de :' ,precio -( precio * (1-descuento/100)))"
      ],
      "metadata": {
        "colab": {
          "base_uri": "https://localhost:8080/"
        },
        "id": "v-RXYaZJl4Al",
        "outputId": "fb14f15e-a0f4-4068-9aad-b2def37ceb9f"
      },
      "execution_count": null,
      "outputs": [
        {
          "output_type": "stream",
          "name": "stdout",
          "text": [
            "Ingrese el precio de la mercaderia 8500\n",
            "Ingrese el descuento20\n",
            "El descuento es de : 1700.0\n"
          ]
        }
      ]
    },
    {
      "cell_type": "markdown",
      "source": [
        "## Ejercicio 11:\n",
        "\n",
        "El alquiler de un auto cuesta `$3000` por día y `$220` por cada kilometro recorrido. Escriba un programa que calcule el valor a pagar dependiendo del número de días alquilado y de km total recorridos.\n",
        "\n",
        "Verifique su programa calculando el importe a pagar por un alquiler de 10 días y 400 kilometros recorridos en esos 10 días. Pruebe otros ejemplos.\n"
      ],
      "metadata": {
        "id": "_d2Us7YKMoUs"
      }
    },
    {
      "cell_type": "code",
      "source": [
        "alquiler=3000\n",
        "kilometro=220\n",
        "dias=int(input('¿Cuantos dias lo alquilo'))\n",
        "kilometros_recorridos=float(input('¿Cuantos kilometros recorrio?'))\n",
        "print('El importe a pagar es :', alquiler*dias + kilometro*kilometros_recorridos)"
      ],
      "metadata": {
        "colab": {
          "base_uri": "https://localhost:8080/"
        },
        "id": "1mhz_izYp_7Z",
        "outputId": "4fc0d568-62f8-439b-a4ef-b243774ffd92"
      },
      "execution_count": null,
      "outputs": [
        {
          "output_type": "stream",
          "name": "stdout",
          "text": [
            "¿Cuantos dias lo alquilo10\n",
            "¿Cuantos kilometros recorrio?400\n",
            "El importe a pagar es : 118000.0\n"
          ]
        }
      ]
    },
    {
      "cell_type": "markdown",
      "source": [
        "## Ejercicio 12:\n",
        "\n",
        "Crea un programa que calcule el área de un rectángulo."
      ],
      "metadata": {
        "id": "VXfQxVinNC1Z"
      }
    },
    {
      "cell_type": "code",
      "source": [
        "base=float(input('Ingrese la base'))\n",
        "altura=float(input('Ingrese la altura'))\n",
        "print('El area del rectagulo es ', base*altura)"
      ],
      "metadata": {
        "colab": {
          "base_uri": "https://localhost:8080/"
        },
        "id": "tvky6wLlrfLh",
        "outputId": "aea029e2-cc41-421b-e5fc-2c69c471342b"
      },
      "execution_count": null,
      "outputs": [
        {
          "output_type": "stream",
          "name": "stdout",
          "text": [
            "Ingrese la base25\n",
            "Ingrese la altura25\n",
            "El area del rectagulo es  625.0\n"
          ]
        }
      ]
    }
  ]
}