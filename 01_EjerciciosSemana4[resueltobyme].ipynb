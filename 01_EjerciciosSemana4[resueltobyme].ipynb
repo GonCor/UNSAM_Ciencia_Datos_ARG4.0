{
  "nbformat": 4,
  "nbformat_minor": 0,
  "metadata": {
    "colab": {
      "provenance": [],
      "include_colab_link": true
    },
    "kernelspec": {
      "name": "python3",
      "display_name": "Python 3"
    },
    "language_info": {
      "name": "python"
    }
  },
  "cells": [
    {
      "cell_type": "markdown",
      "metadata": {
        "id": "view-in-github",
        "colab_type": "text"
      },
      "source": [
        "<a href=\"https://colab.research.google.com/github/GonCor/UNSAM_Ciencia_Datos_ARG4.0/blob/main/01_EjerciciosSemana4%5Bresueltobyme%5D.ipynb\" target=\"_parent\"><img src=\"https://colab.research.google.com/assets/colab-badge.svg\" alt=\"Open In Colab\"/></a>"
      ]
    },
    {
      "cell_type": "markdown",
      "source": [
        "# Ejercicios Semana 4"
      ],
      "metadata": {
        "id": "3X8DvpJmjcLN"
      }
    },
    {
      "cell_type": "markdown",
      "source": [
        " # Ejercicio 1\n",
        "\n",
        "Escribe un programa que pida al usuario ingresar una lista de números separados por comas. Luego, crea una tupla con esos números y muestra por pantalla la tupla creada y la suma de sus elementos. Si la lista que ingresa el usuario tiene elementos erroneos, que el programa se frene y le avise al usario.\n",
        "\n",
        "*Pista: Para que sum() funcione todos los elementos del contenedor tiene que ser int o float.*"
      ],
      "metadata": {
        "id": "vdtCnSTh-k9V"
      }
    },
    {
      "cell_type": "code",
      "source": [
        "numeros=input(' ingresar una lista de números separados por comas ')\n",
        "print(numeros)\n",
        "for n in numeros:\n",
        "  print(n)"
      ],
      "metadata": {
        "id": "-hvqvORIpWqx",
        "colab": {
          "base_uri": "https://localhost:8080/"
        },
        "outputId": "777300c7-1329-4df4-87aa-c96bc6a8dea5"
      },
      "execution_count": null,
      "outputs": [
        {
          "output_type": "stream",
          "name": "stdout",
          "text": [
            " ingresar una lista de números separados por comas 53,85,99\n",
            "53,85,99\n",
            "5\n",
            "3\n",
            ",\n",
            "8\n",
            "5\n",
            ",\n",
            "9\n",
            "9\n"
          ]
        }
      ]
    },
    {
      "cell_type": "markdown",
      "source": [
        "numeros=input('')"
      ],
      "metadata": {
        "id": "2w_22eiXoYGf"
      }
    },
    {
      "cell_type": "code",
      "source": [
        "lista = input(\"Ingrese una lista de números separados por comas: \")\n",
        "\n",
        "try:\n",
        "    lista_numeros = [float(num) for num in lista.split(\",\")]\n",
        "    tupla_numeros = tuple(lista_numeros)\n",
        "    suma_numeros = sum(tupla_numeros)\n",
        "\n",
        "    print(\"La tupla creada es:\", tupla_numeros)\n",
        "    print(\"La suma de los elementos es:\", suma_numeros)\n",
        "\n",
        "except ValueError:\n",
        "    print(\"Ha ingresado elementos que no son números. Por favor, vuelva a intentarlo.\")\n"
      ],
      "metadata": {
        "colab": {
          "base_uri": "https://localhost:8080/"
        },
        "id": "cUUdndRNIli5",
        "outputId": "028e4e81-eeb6-4f1f-de17-71e1c1f7a6b9"
      },
      "execution_count": null,
      "outputs": [
        {
          "output_type": "stream",
          "name": "stdout",
          "text": [
            "Ingrese una lista de números separados por comas: 22,99,878\n",
            "La tupla creada es: (22.0, 99.0, 878.0)\n",
            "La suma de los elementos es: 999.0\n"
          ]
        }
      ]
    },
    {
      "cell_type": "markdown",
      "source": [
        "## Ejercicio 2\n",
        "\n",
        "Escribir un programa que pregunte al usuario su nombre, apellido, edad y teléfono, y que lo guarde en un diccionario. Después debe mostrar por pantalla el mensaje:  \\<nombre apellido\\> tiene \\<edad\\> años y su número de teléfono es \\<telefono\\>.\n",
        "\n"
      ],
      "metadata": {
        "id": "PRb1l-XjjgHH"
      }
    },
    {
      "cell_type": "code",
      "source": [],
      "metadata": {
        "id": "pu1wojFSFyG5"
      },
      "execution_count": null,
      "outputs": []
    },
    {
      "cell_type": "code",
      "source": [
        "nombre=input(\"ingrese Nombre\")\n",
        "apellido=input(\"Ingrese Apellido\")\n",
        "edad=int(input(\"Ingrese Edad\"))\n",
        "telefono=int(input(\"ingrese su numero de telefono\"))\n",
        "datos = {\"nombre\": nombre, \"apellido\": apellido, \"edad\": edad, \"telefono\": telefono}\n",
        "print(datos)\n"
      ],
      "metadata": {
        "colab": {
          "base_uri": "https://localhost:8080/"
        },
        "id": "IiRs-faHFyDw",
        "outputId": "7f725cb9-4e95-48c0-e29a-ad58193fe397"
      },
      "execution_count": null,
      "outputs": [
        {
          "output_type": "stream",
          "name": "stdout",
          "text": [
            "ingrese Nombreg\n",
            "Ingrese Apellidoc\n",
            "Ingrese Edad45\n",
            "ingrese su numero de telefono342\n",
            "{'nombre': 'g', 'apellido': 'c', 'edad': 45, 'telefono': 342}\n"
          ]
        }
      ]
    },
    {
      "cell_type": "markdown",
      "source": [
        "# Ejercicio 3\n",
        "\n",
        "Escribir un programa que pregunte una fecha en formato dd/mm/aaaa y muestre por pantalla la misma fecha en formato dd de \\<mes\\> de aaaa donde \\<mes \\> es el nombre del mes. Para ello cree un diccionario que relacione el valor de mm con el nombre del mes."
      ],
      "metadata": {
        "id": "wTJgMdFk77LU"
      }
    },
    {
      "cell_type": "code",
      "source": [
        "meses = {\"01\": \"enero\", \"02\": \"febrero\", \"03\": \"marzo\", \"04\": \"abril\", \"05\": \"mayo\", \"06\": \"junio\",\n",
        "         \"07\": \"julio\", \"08\": \"agosto\", \"09\": \"septiembre\", \"10\": \"octubre\", \"11\": \"noviembre\", \"12\": \"diciembre\"}\n",
        "\n",
        "# Pedir fecha al usuario en formato dd/mm/aaaa\n",
        "fecha = input(\"Introduce una fecha en formato dd/mm/aaaa: \")\n",
        "# Separar los valores de día, mes y año\n",
        "dia, mes, anio = fecha.split(\"/\")\n",
        "\n",
        "# Obtener el nombre del mes a partir del diccionario\n",
        "mes_nombre = meses[mes]\n",
        "\n",
        "# Mostrar la fecha en el formato deseado\n",
        "print(f\"{dia} de {mes_nombre} de {anio}\")"
      ],
      "metadata": {
        "colab": {
          "base_uri": "https://localhost:8080/"
        },
        "id": "7fzzjgWyG8kz",
        "outputId": "cc6c7327-e8db-42ec-cd66-4d01b85552d1"
      },
      "execution_count": null,
      "outputs": [
        {
          "output_type": "stream",
          "name": "stdout",
          "text": [
            "Introduce una fecha en formato dd/mm/aaaa: 35/12/2099\n",
            "35 de diciembre de 2099\n"
          ]
        }
      ]
    },
    {
      "cell_type": "markdown",
      "source": [
        "# Ejercicio 4\n",
        "\n",
        "Escribe un programa que pida al usuario que ingrese dos listas de números enteros separados por espacios. Luego, crea dos conjuntos con los elementos de cada lista y muestra por pantalla los siguientes conjuntos:\n",
        "\n",
        "    1. La unión de los dos conjuntos\n",
        "    2. La intersección de los dos conjuntos\n",
        "    3. Los elementos que están en el primer conjunto pero no en el segundo\n",
        "    4. Los elementos que están en el segundo conjunto pero no en el primero"
      ],
      "metadata": {
        "id": "B45CufuIBBe-"
      }
    },
    {
      "cell_type": "code",
      "source": [
        "listauno=(input(\"Ingrese una lista de numeros enteros\"))\n",
        "listados=(input(\"Ingrese una lista de numeros enteros\"))\n",
        "\n",
        "listadouno=listauno.split(\" \")\n",
        "listadodos=listados.split(\" \")\n",
        "\n",
        "#Concateno\n",
        "union=listadouno+listadodos\n",
        "#union de los dos conjutos\n",
        "unionSinRepetidos=[]\n",
        "#Interseccion de los dos conjuntos\n",
        "interseccion=[]\n",
        "\n",
        "elementos1=len(listadouno)\n",
        "elementos2=len(listadodos)\n",
        "\n",
        "\n",
        "for i in union:\n",
        "  if i in unionSinRepetidos:\n",
        "      interseccion.append(i)\n",
        "  if i not in unionSinRepetidos:\n",
        "      unionSinRepetidos.append(i)\n",
        "print(f'La union de los dos grupos da: {unionSinRepetidos}')\n",
        "print(f'La Inteseccion de los grupos es: {interseccion}')\n",
        "\n",
        "primerConjunto=listadouno.copy()\n",
        "segundoConjunto=listadodos.copy()\n",
        "\n",
        "for i in interseccion:\n",
        "  if i in listadouno:\n",
        "    primerConjunto.remove(i)\n",
        "\n",
        "for i in interseccion:\n",
        "  if i in listadodos:\n",
        "    segundoConjunto.remove(i)\n",
        "\n",
        "print(f'Elementos que estan en el primer conjunto pero no en el segundo: {primerConjunto} ')\n",
        "print(f'Elementos que estan en el segundo conjunto pero no en el primero: {segundoConjunto} ')\n"
      ],
      "metadata": {
        "colab": {
          "base_uri": "https://localhost:8080/"
        },
        "id": "DL0Td81PIBLm",
        "outputId": "43df2c4b-9256-455f-efb3-01d953c4db1c"
      },
      "execution_count": null,
      "outputs": [
        {
          "output_type": "stream",
          "name": "stdout",
          "text": [
            "Ingrese una lista de numeros enteros5 18 99 7 15\n",
            "Ingrese una lista de numeros enteros5 9 78\n",
            "La union de los dos grupos da: ['5', '18', '99', '7', '15', '9', '78']\n",
            "La Inteseccion de los grupos es: ['5']\n",
            "Elementos que estan en el primer conjunto pero no en el segundo: ['18', '99', '7', '15'] \n",
            "Elementos que estan en el segundo conjunto pero no en el primero: ['9', '78'] \n"
          ]
        }
      ]
    },
    {
      "cell_type": "markdown",
      "source": [
        "# Ejercicio 5\n",
        "\n",
        "Dadas las listas de nombres y edades:\n",
        "nombre=[Juan, Ana, Marcela, Claudio, Nicolás, Cecilia, Tomas, Pedro]\n",
        "edades=[25, 15, 13, 21, 45, 32, 17, 33]\n",
        "1. Crear una lista de tuplas que contenga los nombres y las edades de las personas mayores de 18 años. Atención, usar la función `zip()`.\n",
        "2. Ordenar la lista resultante de forma alfabética por el nombre de las personas."
      ],
      "metadata": {
        "id": "1ZJPFT8yCAOb"
      }
    },
    {
      "cell_type": "code",
      "source": [
        "nombres = ['Juan', 'Ana', 'Marcela', 'Claudio', 'Nicolás', 'Cecilia', 'Tomas', 'Pedro']\n",
        "edades = [25, 15, 13, 21, 45, 32, 17, 33]\n",
        "\n",
        "tupla = zip(nombres, edades)\n",
        "mayoresEdad=[]\n",
        "for t in tupla:\n",
        "  if t[1]>=18:\n",
        "    mayoresEdad.append(t)\n",
        "mayoresEdad=sorted(mayoresEdad)\n",
        "\n",
        "\n",
        "print(mayoresEdad)"
      ],
      "metadata": {
        "colab": {
          "base_uri": "https://localhost:8080/"
        },
        "id": "mEey7JfAlvae",
        "outputId": "3887132f-14f9-47cd-fd53-d9f36003475d"
      },
      "execution_count": null,
      "outputs": [
        {
          "output_type": "stream",
          "name": "stdout",
          "text": [
            "[('Cecilia', 32), ('Claudio', 21), ('Juan', 25), ('Nicolás', 45), ('Pedro', 33)]\n"
          ]
        }
      ]
    },
    {
      "cell_type": "markdown",
      "source": [
        "#Ejercicio 6\n",
        "\n",
        "Usando la herramienta de compresión de listas y diccionarios aprendidas en clases crear:\n",
        "\n",
        "1. Crea una lista de los cuadrados de los números del 1 al 10 utilizando una comprensión de listas.\n",
        "2. Crea una lista de los números pares del 1 al 20 utilizando una comprensión de listas.\n",
        "3. Crea un diccionario que asocie ciudades con sus temperaturas actuales de las siguiente listas.\n",
        "ciudades = [\"Buenos Aires\", \"Madrid\", \"Roma\", \"París\"]\n",
        "temperaturas = [28, 16, 21, 19]"
      ],
      "metadata": {
        "id": "xVc3OLxe6o4U"
      }
    },
    {
      "cell_type": "code",
      "source": [
        "[x**2 for x in range (1,10)]\n",
        "[x for x in range(1,20) if x %2==0 ]\n",
        "ciudades = [\"Buenos Aires\", \"Madrid\", \"Roma\", \"París\"]\n",
        "temperaturas = [28, 16, 21, 19]\n",
        "ciudadTemperatura=dict(zip(ciudades,temperaturas))\n",
        "print(ciudadTemperatura)"
      ],
      "metadata": {
        "id": "zXbx4CluxdIA",
        "colab": {
          "base_uri": "https://localhost:8080/"
        },
        "outputId": "d7985068-6b55-409f-f6f9-0290505aa6b1"
      },
      "execution_count": null,
      "outputs": [
        {
          "output_type": "stream",
          "name": "stdout",
          "text": [
            "{'Buenos Aires': 28, 'Madrid': 16, 'Roma': 21, 'París': 19}\n"
          ]
        }
      ]
    },
    {
      "cell_type": "markdown",
      "source": [
        "# Ejercicio 7\n",
        "\n",
        "Escribe un programa que lea una lista de palabras separadas por espacios y cree una tupla con ellas. Luego, muestra por pantalla la tupla creada y la cantidad de veces que aparece la letra más repetida en todas las palabras.\n",
        "\n",
        "\n"
      ],
      "metadata": {
        "id": "f2IZz_GF801Q"
      }
    },
    {
      "cell_type": "code",
      "source": [
        "palabras= input(\"Escriba palabras\")\n",
        "palabrasSeparadas=palabras.split()\n",
        "\n",
        "print (palabrasSeparadas)\n",
        "frecuenciaLetras={}\n",
        "for palabra in palabrasSeparadas:\n",
        "  for letra in palabra:\n",
        "    if letra in frecuenciaLetras:\n",
        "      frecuenciaLetras[letra]+=1\n",
        "    else:\n",
        "       frecuenciaLetras[letra]=1\n",
        "\n",
        "letra_mas_repetida = max(frecuenciaLetras, key=frecuenciaLetras.get)\n",
        "repeticiones_letra_mas_repetida = frecuenciaLetras[letra_mas_repetida]\n",
        "print(letra_mas_repetida)\n",
        "print(repeticiones_letra_mas_repetida)\n",
        "print(f'la letra mas repetida es {letra_mas_repetida} y se repite {repeticiones_letra_mas_repetida} veces')\n",
        "\n"
      ],
      "metadata": {
        "colab": {
          "base_uri": "https://localhost:8080/"
        },
        "id": "wKHpQyt3kXFf",
        "outputId": "65907a9d-9cc3-4728-ff40-2e79ed265cf5"
      },
      "execution_count": null,
      "outputs": [
        {
          "output_type": "stream",
          "name": "stdout",
          "text": [
            "Escriba palabrasHola mundo somos campeones otra vez\n",
            "['Hola', 'mundo', 'somos', 'campeones', 'otra', 'vez']\n",
            "o\n",
            "6\n",
            "la letra mas repetida es o y se repite 6 veces\n"
          ]
        }
      ]
    },
    {
      "cell_type": "markdown",
      "source": [
        "# Ejercicio 8\n",
        "\n",
        "Imagina que eres el gerente de una tienda en línea y estás revisando tu base de datos de clientes. Descubres que algunos clientes se han registrado varias veces con la misma información de contacto, pero diferentes nombres de usuario. La lista con información de contacto que tenes es:\n",
        "\n",
        "```py\n",
        "clientes = [\n",
        "\n",
        "  (1, \"Ana\", \"García\", \"ana@example.com\", \"Calle Falsa 123\"),\n",
        "\n",
        "  (2, \"Pedro\", \"Martínez\", \"pedro@example.com\", \"Avenida Siempreviva 742\"),\n",
        "\n",
        "  (3, \"Luisa\", \"Fernández\", \"luisa@example.com\", \"Calle Falsa 123\"),\n",
        "\n",
        "  (4, \"Juan\", \"Pérez\", \"juan@example.com\", \"Calle Falsa 123\"),\n",
        "\n",
        "  (5, \"Ana\", \"García\", \"ana@example.com\", \"Calle Falsa 123\")\n",
        "  \n",
        "  ]\n",
        "```\n",
        "Donde el primer elemento de cada tupla es el numero de cliente, luego viene el nombre, apellido, email y dirección.\n",
        "\n",
        "Para simplificar tu base de datos, decides eliminar los registros duplicados y ordenar la lista de clientes alfabéticamente. Escribe un código que haga esto.\n"
      ],
      "metadata": {
        "id": "Mewf8QC58vn9"
      }
    },
    {
      "cell_type": "code",
      "source": [
        "clientes = [\n",
        "\n",
        "  (1, \"Ana\", \"García\", \"ana@example.com\", \"Calle Falsa 123\"),\n",
        "\n",
        "  (2, \"Pedro\", \"Martínez\", \"pedro@example.com\", \"Avenida Siempreviva 742\"),\n",
        "\n",
        "  (3, \"Luisa\", \"Fernández\", \"luisa@example.com\", \"Calle Falsa 123\"),\n",
        "\n",
        "  (4, \"Juan\", \"Pérez\", \"juan@example.com\", \"Calle Falsa 123\"),\n",
        "\n",
        "  (5, \"Ana\", \"García\", \"ana@example.com\", \"Calle Falsa 123\")\n",
        "\n",
        "  ]\n",
        "\n",
        "datos_cliente=[\"id\", \"nombre\", \"apellido\", \"email\" , \"dirección\"]\n",
        "dic_clientes={}\n",
        "\n",
        "for cliente in clientes:\n",
        "  if cliente[3] not in dic_clientes:\n",
        "        #print(cliente[3])\n",
        "        diccionario = dict(zip(datos_cliente,cliente))\n",
        "        print(diccionario)\n",
        "        dic_clientes[diccionario[\"id\"]] = diccionario\n",
        "\n",
        "print (dic_clientes)"
      ],
      "metadata": {
        "colab": {
          "base_uri": "https://localhost:8080/"
        },
        "id": "sGdjPYhpWoBH",
        "outputId": "ad19178a-8700-4876-9c7b-f1fe7a1ab486"
      },
      "execution_count": null,
      "outputs": [
        {
          "output_type": "stream",
          "name": "stdout",
          "text": [
            "{'id': 1, 'nombre': 'Ana', 'apellido': 'García', 'email': 'ana@example.com', 'dirección': 'Calle Falsa 123'}\n",
            "{'id': 2, 'nombre': 'Pedro', 'apellido': 'Martínez', 'email': 'pedro@example.com', 'dirección': 'Avenida Siempreviva 742'}\n",
            "{'id': 3, 'nombre': 'Luisa', 'apellido': 'Fernández', 'email': 'luisa@example.com', 'dirección': 'Calle Falsa 123'}\n",
            "{'id': 4, 'nombre': 'Juan', 'apellido': 'Pérez', 'email': 'juan@example.com', 'dirección': 'Calle Falsa 123'}\n",
            "{'id': 5, 'nombre': 'Ana', 'apellido': 'García', 'email': 'ana@example.com', 'dirección': 'Calle Falsa 123'}\n",
            "{1: {'id': 1, 'nombre': 'Ana', 'apellido': 'García', 'email': 'ana@example.com', 'dirección': 'Calle Falsa 123'}, 2: {'id': 2, 'nombre': 'Pedro', 'apellido': 'Martínez', 'email': 'pedro@example.com', 'dirección': 'Avenida Siempreviva 742'}, 3: {'id': 3, 'nombre': 'Luisa', 'apellido': 'Fernández', 'email': 'luisa@example.com', 'dirección': 'Calle Falsa 123'}, 4: {'id': 4, 'nombre': 'Juan', 'apellido': 'Pérez', 'email': 'juan@example.com', 'dirección': 'Calle Falsa 123'}, 5: {'id': 5, 'nombre': 'Ana', 'apellido': 'García', 'email': 'ana@example.com', 'dirección': 'Calle Falsa 123'}}\n"
          ]
        }
      ]
    },
    {
      "cell_type": "code",
      "source": [
        "# Definimos la lista de clientes\n",
        "clientes = [\n",
        "  (1, \"Ana\", \"García\", \"ana@example.com\", \"Calle Falsa 123\"),\n",
        "  (2, \"Pedro\", \"Martínez\", \"pedro@example.com\", \"Avenida Siempreviva 742\"),\n",
        "  (3, \"Luisa\", \"Fernández\", \"luisa@example.com\", \"Calle Falsa 123\"),\n",
        "  (4, \"Juan\", \"Pérez\", \"juan@example.com\", \"Calle Falsa 123\"),\n",
        "  (5, \"Ana\", \"García\", \"ana@example.com\", \"Calle Falsa 123\")\n",
        "]\n",
        "\n",
        "# Creamos un diccionario vacío para almacenar los clientes únicos\n",
        "clientes_unicos = {}\n",
        "\n",
        "# Recorremos la lista de clientes\n",
        "for cliente in clientes:\n",
        "  # Extraemos el email del cliente\n",
        "  email = cliente[3]\n",
        "  # Si el email no está en el diccionario de clientes únicos,\n",
        "  # lo agregamos con el nombre de usuario como valor\n",
        "  if email not in clientes_unicos:\n",
        "    clientes_unicos[email] = cliente[1] + \" \" + cliente[2]\n",
        "\n",
        "# Convertimos el diccionario de clientes únicos a una lista de tuplas\n",
        "# y la ordenamos alfabéticamente por el valor (nombre de usuario)\n",
        "clientes_ordenados = sorted(clientes_unicos.items(), key=lambda x: x[1])\n",
        "\n",
        "# Mostramos la lista de clientes ordenados\n",
        "for cliente in clientes_ordenados:\n",
        "  print(cliente)\n",
        "\n",
        "\n",
        "\n",
        "\n",
        "\n"
      ],
      "metadata": {
        "colab": {
          "base_uri": "https://localhost:8080/"
        },
        "id": "bNUkviSYblrw",
        "outputId": "1bc0b180-80aa-47f0-ea98-c2978bd61d20"
      },
      "execution_count": null,
      "outputs": [
        {
          "output_type": "stream",
          "name": "stdout",
          "text": [
            "('ana@example.com', 'Ana García')\n",
            "('juan@example.com', 'Juan Pérez')\n",
            "('luisa@example.com', 'Luisa Fernández')\n",
            "('pedro@example.com', 'Pedro Martínez')\n"
          ]
        }
      ]
    },
    {
      "cell_type": "code",
      "source": [],
      "metadata": {
        "id": "QjxnStEDURb3"
      },
      "execution_count": null,
      "outputs": []
    },
    {
      "cell_type": "code",
      "source": [
        "clientes = [\n",
        "\n",
        "  (1, \"Ana\", \"García\", \"ana@example.com\", \"Calle Falsa 123\"),\n",
        "\n",
        "  (2, \"Pedro\", \"Martínez\", \"pedro@example.com\", \"Avenida Siempreviva 742\"),\n",
        "\n",
        "  (3, \"Luisa\", \"Fernández\", \"luisa@example.com\", \"Calle Falsa 123\"),\n",
        "\n",
        "  (4, \"Juan\", \"Pérez\", \"juan@example.com\", \"Calle Falsa 123\"),\n",
        "\n",
        "  (5, \"Ana\", \"García\", \"ana@example.com\", \"Calle Falsa 123\")\n",
        "\n",
        "  ]\n",
        "\n",
        "# Elimino los registros duplicados\n",
        "\n",
        "# Genero una lista de tuplas sin el numero de clientes, para ir chequeando si el cliente esta duplicado. ¿Porque? Bueno, viendo clientes, me doy cuenta\n",
        "# lo que se repite es la informacion de contacto, pero el numero de cliente NO. Entonces tengo que encontrar una manera de poder comparar estas tuplas\n",
        "# pero sin que se tenga en cuenta el numero de cliente.\n",
        "\n",
        "clientes_sin_numero = []\n",
        "for idx, cliente in enumerate(clientes, start=0): # Use enumerate para saber cual es el indice de la lista, y asi saber cual borrar si está duplicado.\n",
        "    sin_numero = (cliente[1],cliente[2],cliente[3],cliente[4]) # Como no tiene el numero de cliente ahora si lo voy a poder usar para encontrar duplicados.\n",
        "    if (cliente[1],cliente[2],cliente[3],cliente[4]) in clientes_sin_numero: # Si ya encontre el cliente en mi lista de clientes sin numeros, entonces ese cliente esta repetido!\n",
        "        del clientes[idx] # Borro el cliente\n",
        "    else: # Que pasa si no esta en la lista?... Lo agrego, asi al fin y al cabo voy a terminar con una lista (sin el numero de cliente) con todos los clientes sin repetir.\n",
        "        clientes_sin_numero.append(sin_numero)\n",
        "\n",
        "print(clientes) # Listo! Ya le saqué todos los duplicados.\n"
      ],
      "metadata": {
        "id": "BkzCaIwiDZ6u",
        "colab": {
          "base_uri": "https://localhost:8080/"
        },
        "outputId": "a0bc3371-0b2b-472a-fa2d-79fdf5813fdb"
      },
      "execution_count": null,
      "outputs": [
        {
          "output_type": "stream",
          "name": "stdout",
          "text": [
            "[(1, 'Ana', 'García', 'ana@example.com', 'Calle Falsa 123'), (2, 'Pedro', 'Martínez', 'pedro@example.com', 'Avenida Siempreviva 742'), (3, 'Luisa', 'Fernández', 'luisa@example.com', 'Calle Falsa 123'), (4, 'Juan', 'Pérez', 'juan@example.com', 'Calle Falsa 123')]\n"
          ]
        }
      ]
    },
    {
      "cell_type": "markdown",
      "source": [
        "# Ejercicio 9\n",
        "\n",
        "Escribe un programa que le permita al usuario registrar información sobre estudiantes en una escuela. Cada estudiante tendrá un nombre y apellido, una edad y una lista de materias en las que está inscrito.\n",
        "El programa deberá guardar toda la información guardada, y además deberá indicar cuantas y cuales son las materias a las que hay por lo menos un estudiante inscrito.\n",
        "\n",
        "Probá para las siguientes informaciones\n",
        "\n",
        "- Nombre: Juan Perez,\n",
        "  Edad: 18,\n",
        "  Materias: Matemáticas, Física, Química\n",
        "- Nombre: Ana Suarez,\n",
        "  Edad: 17,\n",
        "  Materias: Lengua, Historia, Geografía\n",
        "- Nombre: Pedro Martinez,\n",
        "  Edad: 16,\n",
        "  Materias: Inglés, Música\n",
        "- Nombre: María Barbosa,\n",
        "  Edad: 18,\n",
        "  Materias: Matemáticas, Física, Dibujo\n",
        "- Nombre: Luis Sanchez,\n",
        "  Edad: 17,\n",
        "  Materias: Biología, Historia, Geografía\n"
      ],
      "metadata": {
        "id": "QIIOKVYkGFP7"
      }
    },
    {
      "cell_type": "code",
      "source": [
        "#creo un diccionario para\n",
        "estudiantes={}\n",
        "#creo el ingreso de las variables\n",
        "nombre =input(\"ingrese un nombre \").lower().strip()\n",
        "apellido =input(\"ingrese un apellido \").lower().strip()\n",
        "edad=int(input(\"Ingrese una edad \"))\n",
        "materias=input(\"ingrese a las materias que se inscribio sepradas de una coma \").lower().strip()\n",
        "#Genero una lista de materias\n",
        "lista_materias=materias.split(\",\")\n"
      ],
      "metadata": {
        "id": "I5hM2fwe9yi_",
        "colab": {
          "base_uri": "https://localhost:8080/"
        },
        "outputId": "57b3625b-e0fe-4169-8d82-a69a4d8bb949"
      },
      "execution_count": null,
      "outputs": [
        {
          "name": "stdout",
          "output_type": "stream",
          "text": [
            "ingrese un nombre G\n",
            "ingrese un apellido C\n",
            "Ingrese una edad 343\n",
            "ingrese a las materias que se inscribio sepradas de una coma Biología, Historia, Geografía\n"
          ]
        }
      ]
    },
    {
      "cell_type": "code",
      "source": [
        "\n",
        "estudiantes=[]\n",
        "\n",
        "\n",
        "while True:\n",
        "  nombre =input(\"ingrese un nombre \").lower().strip()\n",
        "  apellido =input(\"ingrese un apellido \").lower().strip()\n",
        "  edad=int(input(\"Ingrese una edad \"))\n",
        "  materias=input(\"ingrese a las materias que se inscribio sepradas de una coma \").lower().strip()\n",
        "  #Genero una lista de materias\n",
        "  lista_materias=materias.split(\",\")\n",
        "  estudiante = {\n",
        "        'Nombre': nombre,\n",
        "        'Apellido':apellido,\n",
        "        'Edad': edad,\n",
        "        'Materias': lista_materias\n",
        "        }\n",
        "  estudiantes.append(estudiante)\n",
        "  continuar = input('¿Desea continuar registrando? (si/no): ').lower().strip()\n",
        "  if continuar == 'no': # me aseguro de que esta condicion va funcionar porque lo convertí en minusculas.\n",
        "      break\n",
        "\n",
        ""
      ],
      "metadata": {
        "colab": {
          "base_uri": "https://localhost:8080/"
        },
        "id": "QYML6p0ENR9p",
        "outputId": "d0d8bdb5-64ef-4901-9b50-e6e296039cfe"
      },
      "execution_count": null,
      "outputs": [
        {
          "name": "stdout",
          "output_type": "stream",
          "text": [
            "ingrese un nombre Juan\n",
            "ingrese un apellido Perez\n",
            "Ingrese una edad 18\n",
            "ingrese a las materias que se inscribio sepradas de una coma Mat, len, biologia\n",
            "¿Desea continuar registrando? (si/no): no\n"
          ]
        }
      ]
    },
    {
      "cell_type": "code",
      "source": [
        "materias_con_al_menos_un_estudiante=set()\n",
        "for estudiante in estudiantes:\n",
        "  for materia in estudiante['Materias']:\n",
        "    materias_con_al_menos_un_estudiante.add(materia)\n",
        "\n",
        "print(f\"Hay {len(materias_con_al_menos_un_estudiante)} materias con al menos un estudiante inscrito:\")\n",
        "print(', '.join(materias_con_al_menos_un_estudiante))\n"
      ],
      "metadata": {
        "colab": {
          "base_uri": "https://localhost:8080/",
          "height": 235
        },
        "id": "CeIq93z4sGgr",
        "outputId": "69bc224b-9b6d-4d12-e8a7-f0fb0f123b7a"
      },
      "execution_count": null,
      "outputs": [
        {
          "output_type": "error",
          "ename": "KeyError",
          "evalue": "ignored",
          "traceback": [
            "\u001b[0;31m---------------------------------------------------------------------------\u001b[0m",
            "\u001b[0;31mKeyError\u001b[0m                                  Traceback (most recent call last)",
            "\u001b[0;32m<ipython-input-4-acdd397403d3>\u001b[0m in \u001b[0;36m<module>\u001b[0;34m\u001b[0m\n\u001b[1;32m      1\u001b[0m \u001b[0mmaterias_con_al_menos_un_estudiante\u001b[0m\u001b[0;34m=\u001b[0m\u001b[0mset\u001b[0m\u001b[0;34m(\u001b[0m\u001b[0;34m)\u001b[0m\u001b[0;34m\u001b[0m\u001b[0;34m\u001b[0m\u001b[0m\n\u001b[1;32m      2\u001b[0m \u001b[0;32mfor\u001b[0m \u001b[0mestudiante\u001b[0m \u001b[0;32min\u001b[0m \u001b[0mestudiantes\u001b[0m\u001b[0;34m:\u001b[0m\u001b[0;34m\u001b[0m\u001b[0;34m\u001b[0m\u001b[0m\n\u001b[0;32m----> 3\u001b[0;31m   \u001b[0;32mfor\u001b[0m \u001b[0mmateria\u001b[0m \u001b[0;32min\u001b[0m \u001b[0mestudiante\u001b[0m\u001b[0;34m[\u001b[0m\u001b[0;36m3\u001b[0m\u001b[0;34m]\u001b[0m\u001b[0;34m:\u001b[0m\u001b[0;34m\u001b[0m\u001b[0;34m\u001b[0m\u001b[0m\n\u001b[0m\u001b[1;32m      4\u001b[0m     \u001b[0mmaterias_con_al_menos_un_estudiante\u001b[0m\u001b[0;34m.\u001b[0m\u001b[0madd\u001b[0m\u001b[0;34m(\u001b[0m\u001b[0mmateria\u001b[0m\u001b[0;34m)\u001b[0m\u001b[0;34m\u001b[0m\u001b[0;34m\u001b[0m\u001b[0m\n\u001b[1;32m      5\u001b[0m \u001b[0;34m\u001b[0m\u001b[0m\n",
            "\u001b[0;31mKeyError\u001b[0m: 3"
          ]
        }
      ]
    },
    {
      "cell_type": "code",
      "source": [],
      "metadata": {
        "id": "Xb_4wRyxv-td"
      },
      "execution_count": null,
      "outputs": []
    }
  ]
}